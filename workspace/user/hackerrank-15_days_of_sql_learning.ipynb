{
 "cells": [
  {
   "cell_type": "code",
   "execution_count": 1,
   "id": "5eb25f61-9d10-4ec6-a36f-3eaf5122ae3a",
   "metadata": {},
   "outputs": [],
   "source": [
    "from pyspark.sql import SparkSession\n",
    "from pyspark.sql.window import Window\n",
    "from pyspark.sql.types import StructType\n",
    "from pyspark.sql.functions import col, lit, count, dense_rank, first, when, datediff, sum as colsum, current_timestamp"
   ]
  },
  {
   "cell_type": "code",
   "execution_count": 3,
   "id": "9fe2dc53-cb7d-484e-884e-6e04d8cac7dc",
   "metadata": {},
   "outputs": [],
   "source": [
    "spark = (\n",
    "    SparkSession\n",
    "    .builder\n",
    "    .config(\"spark.jars\", \"/jars/delta-core_2.12-1.0.0.jar\")\n",
    "    .appName(\"hackerrank:hackers submissions - ETL\")\n",
    "    .master(\"spark://spark-master:7077\")\n",
    "    .getOrCreate()\n",
    ")\n",
    "\n",
    "spark.sparkContext.setLogLevel(\"ERROR\")"
   ]
  },
  {
   "cell_type": "code",
   "execution_count": 4,
   "id": "3d01fe35-c768-4147-90e6-90ad4bdf607f",
   "metadata": {},
   "outputs": [],
   "source": [
    "import json\n",
    "\n",
    "def read_schema(schema_name: str) -> dict:\n",
    "    file = open(f\"/mnt/schemas/schema-{schema_name}.json\", \"r\")\n",
    "    return json.load(file)"
   ]
  },
  {
   "cell_type": "code",
   "execution_count": 5,
   "id": "05730cec-a8b4-4cfe-a25a-3f6fb72171f2",
   "metadata": {},
   "outputs": [],
   "source": [
    "# Schema definition:\n",
    "hackers_schema = StructType.fromJson(read_schema(\"hackers\"))\n",
    "submissions_schema = StructType.fromJson(read_schema(\"submissions\"))\n",
    "\n",
    "# Data file path in the swamp layer:\n",
    "hackers_path = \"/mnt/swamp/hackers.jsonl\"\n",
    "submissions_path = \"/mnt/swamp/submissions.jsonl\""
   ]
  },
  {
   "cell_type": "code",
   "execution_count": 6,
   "id": "189c0329-fe5d-468d-a57d-964a468d8a91",
   "metadata": {},
   "outputs": [],
   "source": [
    "hackers = (\n",
    "    spark\n",
    "    .read\n",
    "    .json(hackers_path, schema = hackers_schema)\n",
    ")\n",
    "\n",
    "submissions = (\n",
    "    spark\n",
    "    .read\n",
    "    .json(submissions_path, schema = submissions_schema)\n",
    ")"
   ]
  },
  {
   "cell_type": "code",
   "execution_count": 7,
   "id": "798b2141-d3a1-49e5-955a-29fe72a03db9",
   "metadata": {},
   "outputs": [
    {
     "name": "stderr",
     "output_type": "stream",
     "text": [
      "                                                                                \r"
     ]
    },
    {
     "data": {
      "text/html": [
       "<div>\n",
       "<style scoped>\n",
       "    .dataframe tbody tr th:only-of-type {\n",
       "        vertical-align: middle;\n",
       "    }\n",
       "\n",
       "    .dataframe tbody tr th {\n",
       "        vertical-align: top;\n",
       "    }\n",
       "\n",
       "    .dataframe thead th {\n",
       "        text-align: right;\n",
       "    }\n",
       "</style>\n",
       "<table border=\"1\" class=\"dataframe\">\n",
       "  <thead>\n",
       "    <tr style=\"text-align: right;\">\n",
       "      <th></th>\n",
       "      <th>submission_date</th>\n",
       "      <th>qtt_hackers</th>\n",
       "      <th>first_hacker_id</th>\n",
       "      <th>first_hacker_name</th>\n",
       "      <th>processing_time</th>\n",
       "    </tr>\n",
       "  </thead>\n",
       "  <tbody>\n",
       "    <tr>\n",
       "      <th>0</th>\n",
       "      <td>2016-03-01</td>\n",
       "      <td>4</td>\n",
       "      <td>20703</td>\n",
       "      <td>Angela</td>\n",
       "      <td>2022-06-01 13:08:21.171</td>\n",
       "    </tr>\n",
       "    <tr>\n",
       "      <th>1</th>\n",
       "      <td>2016-03-02</td>\n",
       "      <td>2</td>\n",
       "      <td>79722</td>\n",
       "      <td>Michael</td>\n",
       "      <td>2022-06-01 13:08:21.171</td>\n",
       "    </tr>\n",
       "    <tr>\n",
       "      <th>2</th>\n",
       "      <td>2016-03-03</td>\n",
       "      <td>2</td>\n",
       "      <td>20703</td>\n",
       "      <td>Angela</td>\n",
       "      <td>2022-06-01 13:08:21.171</td>\n",
       "    </tr>\n",
       "    <tr>\n",
       "      <th>3</th>\n",
       "      <td>2016-03-04</td>\n",
       "      <td>2</td>\n",
       "      <td>20703</td>\n",
       "      <td>Angela</td>\n",
       "      <td>2022-06-01 13:08:21.171</td>\n",
       "    </tr>\n",
       "    <tr>\n",
       "      <th>4</th>\n",
       "      <td>2016-03-05</td>\n",
       "      <td>1</td>\n",
       "      <td>36396</td>\n",
       "      <td>Frank</td>\n",
       "      <td>2022-06-01 13:08:21.171</td>\n",
       "    </tr>\n",
       "    <tr>\n",
       "      <th>5</th>\n",
       "      <td>2016-03-06</td>\n",
       "      <td>1</td>\n",
       "      <td>20703</td>\n",
       "      <td>Angela</td>\n",
       "      <td>2022-06-01 13:08:21.171</td>\n",
       "    </tr>\n",
       "  </tbody>\n",
       "</table>\n",
       "</div>"
      ],
      "text/plain": [
       "  submission_date  qtt_hackers  first_hacker_id first_hacker_name  \\\n",
       "0      2016-03-01            4            20703            Angela   \n",
       "1      2016-03-02            2            79722           Michael   \n",
       "2      2016-03-03            2            20703            Angela   \n",
       "3      2016-03-04            2            20703            Angela   \n",
       "4      2016-03-05            1            36396             Frank   \n",
       "5      2016-03-06            1            20703            Angela   \n",
       "\n",
       "          processing_time  \n",
       "0 2022-06-01 13:08:21.171  \n",
       "1 2022-06-01 13:08:21.171  \n",
       "2 2022-06-01 13:08:21.171  \n",
       "3 2022-06-01 13:08:21.171  \n",
       "4 2022-06-01 13:08:21.171  \n",
       "5 2022-06-01 13:08:21.171  "
      ]
     },
     "execution_count": 7,
     "metadata": {},
     "output_type": "execute_result"
    }
   ],
   "source": [
    "# Get the hacker_id who made the biggest number of submissions each day:\n",
    "\n",
    "daily_subs = (\n",
    "    submissions\n",
    "    .groupBy(col(\"submission_date\"), col(\"hacker_id\"))\n",
    "    .agg(count(\"submission_id\").alias(\"qtt_submissions\"))\n",
    "    .orderBy(col(\"submission_date\"), col(\"qtt_submissions\").desc(), col(\"hacker_id\"))\n",
    "    .groupBy(col(\"submission_date\"))\n",
    "    .agg(first(\"hacker_id\").alias(\"hacker_id\"))\n",
    ")\n",
    "\n",
    "# Get the number of hacker_ids that submited in each successive day:\n",
    "\n",
    "start_date = \"2016-03-01\"\n",
    "window = Window.partitionBy(col(\"hacker_id\")).orderBy(col(\"submission_date\"))\n",
    "condition = (dense_rank().over(window) - 1) == datediff(col(\"submission_date\"), lit(start_date))\n",
    "\n",
    "cols = [\n",
    "    col(\"submission_date\"),\n",
    "    col(\"hacker_id\"),\n",
    "    when(condition, lit(1)).otherwise(lit(0)).alias(\"successive_submission\"),\n",
    "    dense_rank().over(window).alias(\"rn\")\n",
    "]\n",
    "\n",
    "successive_hackers = (\n",
    "    submissions\n",
    "    .select(*cols)\n",
    "    .distinct()\n",
    "    .groupBy(col(\"submission_date\"))\n",
    "    .agg(colsum(\"successive_submission\").alias(\"qtt_hackers\"))\n",
    ")\n",
    "\n",
    "df = (\n",
    "    successive_hackers.alias(\"x\")\n",
    "    .join(daily_subs.alias(\"y\"), on = \"submission_date\", how = \"inner\")\n",
    "    .join(hackers.alias(\"z\"), on = \"hacker_id\", how = \"inner\")\n",
    "    .select(\n",
    "        col(\"submission_date\"),\n",
    "        col(\"qtt_hackers\"),\n",
    "        col(\"y.hacker_id\").alias(\"first_hacker_id\"),\n",
    "        col(\"z.name\").alias(\"first_hacker_name\"),\n",
    "        current_timestamp().alias(\"processing_time\")\n",
    "    )\n",
    "    .orderBy(col(\"submission_date\"))\n",
    ")\n",
    "\n",
    "df.toPandas()"
   ]
  },
  {
   "cell_type": "code",
   "execution_count": 8,
   "id": "7ac51b38-0c5d-4b4d-ada3-221eeb0c8332",
   "metadata": {},
   "outputs": [
    {
     "name": "stderr",
     "output_type": "stream",
     "text": [
      "                                                                                \r"
     ]
    }
   ],
   "source": [
    "path = \"/mnt/g_layer/15_days_of_sql_learning\" # g_layer stands for gold layer\n",
    "\n",
    "(\n",
    "    df\n",
    "    .write\n",
    "    .format(\"delta\")\n",
    "    .mode(\"overwrite\")\n",
    "    .option(\"overwriteSchema\", True)\n",
    "    .save(path)\n",
    ")"
   ]
  }
 ],
 "metadata": {
  "kernelspec": {
   "display_name": "Python 3 (ipykernel)",
   "language": "python",
   "name": "python3"
  },
  "language_info": {
   "codemirror_mode": {
    "name": "ipython",
    "version": 3
   },
   "file_extension": ".py",
   "mimetype": "text/x-python",
   "name": "python",
   "nbconvert_exporter": "python",
   "pygments_lexer": "ipython3",
   "version": "3.9.2"
  }
 },
 "nbformat": 4,
 "nbformat_minor": 5
}
